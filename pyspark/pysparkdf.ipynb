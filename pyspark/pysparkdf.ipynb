{
 "cells": [
  {
   "cell_type": "code",
   "execution_count": null,
   "metadata": {},
   "outputs": [],
   "source": [
    "import pyspark\n",
    "from pyspark.sql import SparkSession\n",
    "from pyspark.sql import functions as F"
   ]
  },
  {
   "cell_type": "code",
   "execution_count": 2,
   "id": "df54ba7b-9388-412f-a641-41edfc5cda27",
   "metadata": {},
   "outputs": [],
   "source": [
    "spark = SparkSession.builder \\\n",
    "    .config(\"spark.executor.memory\", \"4g\") \\\n",
    "    .config(\"spark.jars\", \"postgresql-42.6.0.jar\") \\\n",
    "    .appName(\"PySpark_Postgres\") \\\n",
    "    .master(\"local[*]\") \\\n",
    "    .getOrCreate()"
   ]
  },
  {
   "cell_type": "code",
   "execution_count": 3,
   "id": "a9b06fd1-abfe-4186-a940-dd2849a625a4",
   "metadata": {},
   "outputs": [],
   "source": [
    "url = \"jdbc:postgresql://host.docker.internal:5432/ny_taxi\"\n",
    "\n",
    "properties = {\n",
    "    \"user\": \"root\",\n",
    "    \"password\": \"root\",\n",
    "    \"driver\": \"org.postgresql.Driver\",\n",
    "}"
   ]
  },
  {
   "cell_type": "code",
   "execution_count": 4,
   "id": "ee8b3428-ee6a-486f-b6b5-e46921ae1c55",
   "metadata": {},
   "outputs": [],
   "source": [
    "table_name = \"dbtschema.fact_trips\"\n",
    "\n",
    "df = spark.read.jdbc(url, table_name, properties=properties)"
   ]
  },
  {
   "cell_type": "code",
   "execution_count": 5,
   "id": "03fcf623-4e2f-4d50-8e8c-31cfdb0f7d4c",
   "metadata": {},
   "outputs": [],
   "source": [
    "df2 = df.withColumn('year', F.year('pickup_datetime')) \\\n",
    "        .withColumn('month', F.date_format('pickup_datetime', 'MMMM')) \\\n",
    "        .withColumn('dow', F.date_format('pickup_datetime', 'EEEE'))"
   ]
  },
  {
   "cell_type": "code",
   "execution_count": 6,
   "id": "394fba3f-d537-4881-a941-d7886b3e9c28",
   "metadata": {},
   "outputs": [],
   "source": [
    "col_to_fill = ['service_type', 'ratecode_description', 'payment_type_description','store_and_fwd_flag']\n",
    "\n",
    "for col_name in col_to_fill:\n",
    "    df = df.na.fill('Unknown', [col_name])"
   ]
  },
  {
   "cell_type": "code",
   "execution_count": 7,
   "id": "2fda9165-2628-483b-b0db-3c495850c75a",
   "metadata": {},
   "outputs": [],
   "source": [
    "df2 = df2.withColumn('vendorid', F.when(F.col('vendorid') == 1, 'cm_tech').otherwise('verifone'))"
   ]
  },
  {
   "cell_type": "code",
   "execution_count": 8,
   "id": "991da3da-336c-4999-93d0-9595055c4409",
   "metadata": {},
   "outputs": [],
   "source": [
    "df3 = df2.groupBy('year','month','dow',F.col('vendorid').alias('vendor'),'service_type',F.col('ratecode_description').alias('rate'),F.col('pickup_borough').alias('borough'), \n",
    "                F.col('pickup_zone').alias('zone'),F.col('payment_type_description').alias('payment_type'),'store_and_fwd_flag').agg(\n",
    "                F.count('tripid').alias('trip_count'),F.sum('passenger_count').alias('passenger_count'),\n",
    "                F.sum('trip_distance').alias('trip_distance'),F.sum('fare_amount').alias('fare_amount'),\n",
    "                F.sum('extra').alias('extra'),F.sum('mta_tax').alias('mta_tax'),F.sum('tip_amount').alias('tip_amount'),\n",
    "                F.sum('tolls_amount').alias('tolls_amount'),F.sum('improvement_surcharge').alias('improvement_surcharge'),\n",
    "                F.sum('congestion_surcharge').alias('congestion_surcharge'), F.sum('total_amount').alias('revenue'))"
   ]
  },
  {
   "cell_type": "code",
   "execution_count": 12,
   "id": "75953032-272d-49a2-911e-c68eb97f995f",
   "metadata": {},
   "outputs": [],
   "source": [
    "df3.write \\\n",
    "    .jdbc(url=url, table=\"DBdata\", mode=\"append\", properties=properties)"
   ]
  },
  {
   "cell_type": "code",
   "execution_count": 13,
   "id": "ac4c3893-e691-4668-b5ef-4c6ad2d527b2",
   "metadata": {},
   "outputs": [],
   "source": [
    "df.coalesce(19).write.parquet('result',mode = 'overwrite')"
   ]
  },
  {
   "cell_type": "code",
   "execution_count": null,
   "id": "a71043b4-afcb-48da-a48c-de051207d9f1",
   "metadata": {},
   "outputs": [],
   "source": []
  },
  {
   "cell_type": "code",
   "execution_count": null,
   "id": "d2e77fad-edfd-4a3d-8438-128efcb90a40",
   "metadata": {},
   "outputs": [],
   "source": [
    "spark.stop()"
   ]
  },
  {
   "cell_type": "code",
   "execution_count": null,
   "id": "f4e7f92d-62e4-4c1b-8722-4bb81dc47b96",
   "metadata": {},
   "outputs": [],
   "source": []
  },
  {
   "cell_type": "code",
   "execution_count": null,
   "id": "8b062732-1b05-451e-a353-41d30e07ee75",
   "metadata": {},
   "outputs": [],
   "source": []
  },
  {
   "cell_type": "code",
   "execution_count": null,
   "id": "77efdb1d-4b77-4697-9641-28414cd07b91",
   "metadata": {},
   "outputs": [],
   "source": []
  }
 ],
 "metadata": {
  "kernelspec": {
   "display_name": "Python 3 (ipykernel)",
   "language": "python",
   "name": "python3"
  },
  "language_info": {
   "codemirror_mode": {
    "name": "ipython",
    "version": 3
   },
   "file_extension": ".py",
   "mimetype": "text/x-python",
   "name": "python",
   "nbconvert_exporter": "python",
   "pygments_lexer": "ipython3",
   "version": "3.12.0"
  }
 },
 "nbformat": 4,
 "nbformat_minor": 5
}
